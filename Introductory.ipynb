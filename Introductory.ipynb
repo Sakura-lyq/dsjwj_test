{
 "cells": [
  {
   "cell_type": "markdown",
   "id": "legislative-happiness",
   "metadata": {},
   "source": [
    "# python基础"
   ]
  },
  {
   "cell_type": "markdown",
   "id": "weird-median",
   "metadata": {},
   "source": [
    "## 环境安装\n",
    "Anaconda的安装  \n",
    "Pycharm的安装  \n",
    "Jupyter Notebook  "
   ]
  },
  {
   "cell_type": "markdown",
   "id": "framed-mortgage",
   "metadata": {},
   "source": [
    "## 什么是机器学习\n",
    "a computer program is said to learn from experience E with respect to some task T and some performance measure P, if its performance on T, as measured by P, improves with experience E. ---- Tom Mitchel  \n",
    "机器学习是指用某些算法指导计算机利用已知数据得出适当的模型，并利用此模型对新的情境给出判断的过程。"
   ]
  },
  {
   "cell_type": "markdown",
   "id": "simple-shakespeare",
   "metadata": {},
   "source": [
    "### 机器学习的分类\n",
    "- 监督学习（Supervised Learning）\n",
    "- Unsupervised Learning\n",
    "<br/>\n",
    "在机器学习中，这里的每个实体或者每一行被称为一个样本(sample)或数据点，而每一列（用来描述这些实体特征的属性）则被称为特征(feature)。  \n",
    "如何构建良好的数据特征，这被称为特征提取(feature extraction)或特征工程(feature engineering)。"
   ]
  },
  {
   "cell_type": "markdown",
   "id": "black-longitude",
   "metadata": {},
   "source": [
    "## Python机器学习\n",
    "### scikit-learn\n",
    "python机器学习库：  \n",
    "https://scikit-learn.org/stable/index.html  \n",
    "scikit-learn用户指南：  \n",
    "https://scikit-learn.org/stable/user_guide.html"
   ]
  },
  {
   "cell_type": "markdown",
   "id": "pregnant-thinking",
   "metadata": {},
   "source": [
    "### 掌握的库\n",
    "Numpy  \n",
    "Scipy  \n",
    "matplotlib  \n",
    "pandas  \n",
    "mglearn"
   ]
  },
  {
   "cell_type": "markdown",
   "id": "adapted-internship",
   "metadata": {},
   "source": [
    "## 应用一：鸢尾花分类\n",
    "构建一个机器学习模型，从已知品种的鸢尾花测量数据中进行学习，从而能够预测新鸢尾花的品种。  \n",
    "这是一个监督学习问题。这是一个分类问题的示例，可能的输出叫做类别，鸢尾花共有三个类别，这是一个三分类问题。  "
   ]
  },
  {
   "cell_type": "markdown",
   "id": "broke-complex",
   "metadata": {},
   "source": [
    "### 初识数据\n",
    "鸢尾花(Iris)数据集，包含在scikit-learn的datasets模块内，可用load_iris调用。"
   ]
  },
  {
   "cell_type": "markdown",
   "id": "restricted-joseph",
   "metadata": {},
   "source": [
    "\"{}\".format"
   ]
  },
  {
   "cell_type": "code",
   "execution_count": 5,
   "id": "steady-headset",
   "metadata": {},
   "outputs": [
    {
     "data": {
      "text/plain": [
       "'hello world'"
      ]
     },
     "execution_count": 5,
     "metadata": {},
     "output_type": "execute_result"
    }
   ],
   "source": [
    "\"{} {}\".format(\"hello\", \"world\")    # 不设置指定位置，按默认顺序"
   ]
  },
  {
   "cell_type": "code",
   "execution_count": 6,
   "id": "cultural-october",
   "metadata": {},
   "outputs": [
    {
     "data": {
      "text/plain": [
       "'hello world'"
      ]
     },
     "execution_count": 6,
     "metadata": {},
     "output_type": "execute_result"
    }
   ],
   "source": [
    "\"{0} {1}\".format(\"hello\", \"world\")  # 设置指定位置"
   ]
  },
  {
   "cell_type": "code",
   "execution_count": 7,
   "id": "boolean-humanitarian",
   "metadata": {},
   "outputs": [
    {
     "data": {
      "text/plain": [
       "'world hello world'"
      ]
     },
     "execution_count": 7,
     "metadata": {},
     "output_type": "execute_result"
    }
   ],
   "source": [
    "\"{1} {0} {1}\".format(\"hello\", \"world\")  # 设置指定位置"
   ]
  },
  {
   "cell_type": "markdown",
   "id": "wrong-astrology",
   "metadata": {},
   "source": [
    "shape函数  \n",
    "shape函数是numpy.core.fromnumeric中的函数，它的功能是查看矩阵或者数组的维数"
   ]
  },
  {
   "cell_type": "code",
   "execution_count": 9,
   "id": "growing-container",
   "metadata": {},
   "outputs": [
    {
     "data": {
      "text/plain": [
       "(4, 2)"
      ]
     },
     "execution_count": 9,
     "metadata": {},
     "output_type": "execute_result"
    }
   ],
   "source": [
    "import numpy as np\n",
    "c = np.array([[1,1],[1,2],[1,3],[1,4]])\n",
    "c.shape"
   ]
  },
  {
   "cell_type": "markdown",
   "id": "requested-powell",
   "metadata": {},
   "source": [
    "导入数据"
   ]
  },
  {
   "cell_type": "code",
   "execution_count": 19,
   "id": "after-jacob",
   "metadata": {},
   "outputs": [
    {
     "name": "stdout",
     "output_type": "stream",
     "text": [
      "Keys of iris dataset:\n",
      "dict_keys(['data', 'target', 'frame', 'target_names', 'DESCR', 'feature_names', 'filename'])\n"
     ]
    }
   ],
   "source": [
    "from sklearn.datasets import load_iris\n",
    "iris_dataset = load_iris()\n",
    "print(\"Keys of iris dataset:\\n{}\".format(iris_dataset.keys()))"
   ]
  },
  {
   "cell_type": "code",
   "execution_count": 15,
   "id": "comic-garden",
   "metadata": {},
   "outputs": [
    {
     "name": "stdout",
     "output_type": "stream",
     "text": [
      "Type of data:<class 'numpy.ndarray'>\n"
     ]
    }
   ],
   "source": [
    "# 查看各个键的属性\n",
    "print(\"Type of data:{}\".format(type(iris_dataset['data'])))"
   ]
  },
  {
   "cell_type": "code",
   "execution_count": 16,
   "id": "soviet-crime",
   "metadata": {},
   "outputs": [
    {
     "name": "stdout",
     "output_type": "stream",
     "text": [
      "Shape of data:(150, 4)\n"
     ]
    }
   ],
   "source": [
    "print(\"Shape of data:{}\".format((iris_dataset['data'].shape)))"
   ]
  },
  {
   "cell_type": "code",
   "execution_count": 17,
   "id": "fewer-fruit",
   "metadata": {},
   "outputs": [
    {
     "name": "stdout",
     "output_type": "stream",
     "text": [
      "Type of target:<class 'numpy.ndarray'>\n"
     ]
    }
   ],
   "source": [
    "print(\"Type of target:{}\".format(type(iris_dataset['target'])))"
   ]
  },
  {
   "cell_type": "code",
   "execution_count": 18,
   "id": "previous-basket",
   "metadata": {},
   "outputs": [
    {
     "name": "stdout",
     "output_type": "stream",
     "text": [
      "Shape of target:(150,)\n"
     ]
    }
   ],
   "source": [
    "print(\"Shape of target:{}\".format((iris_dataset['target'].shape)))"
   ]
  },
  {
   "cell_type": "code",
   "execution_count": 21,
   "id": "lesbian-visit",
   "metadata": {},
   "outputs": [
    {
     "name": "stdout",
     "output_type": "stream",
     "text": [
      "Target:\n",
      "[0 0 0 0 0 0 0 0 0 0 0 0 0 0 0 0 0 0 0 0 0 0 0 0 0 0 0 0 0 0 0 0 0 0 0 0 0\n",
      " 0 0 0 0 0 0 0 0 0 0 0 0 0 1 1 1 1 1 1 1 1 1 1 1 1 1 1 1 1 1 1 1 1 1 1 1 1\n",
      " 1 1 1 1 1 1 1 1 1 1 1 1 1 1 1 1 1 1 1 1 1 1 1 1 1 1 2 2 2 2 2 2 2 2 2 2 2\n",
      " 2 2 2 2 2 2 2 2 2 2 2 2 2 2 2 2 2 2 2 2 2 2 2 2 2 2 2 2 2 2 2 2 2 2 2 2 2\n",
      " 2 2]\n"
     ]
    }
   ],
   "source": [
    "print(\"Target:\\n{}\".format(iris_dataset['target']))"
   ]
  },
  {
   "cell_type": "code",
   "execution_count": 22,
   "id": "eight-estonia",
   "metadata": {},
   "outputs": [
    {
     "name": "stdout",
     "output_type": "stream",
     "text": [
      "Type of frame:<class 'NoneType'>\n"
     ]
    }
   ],
   "source": [
    "print(\"Type of frame:{}\".format(type(iris_dataset['frame'])))"
   ]
  },
  {
   "cell_type": "code",
   "execution_count": 23,
   "id": "least-samoa",
   "metadata": {},
   "outputs": [
    {
     "name": "stdout",
     "output_type": "stream",
     "text": [
      "Target_names:\n",
      "['setosa' 'versicolor' 'virginica']\n"
     ]
    }
   ],
   "source": [
    "print(\"Target_names:\\n{}\".format(iris_dataset['target_names']))"
   ]
  },
  {
   "cell_type": "code",
   "execution_count": 24,
   "id": "communist-preference",
   "metadata": {},
   "outputs": [
    {
     "name": "stdout",
     "output_type": "stream",
     "text": [
      "Feature names:\n",
      "['sepal length (cm)', 'sepal width (cm)', 'petal length (cm)', 'petal width (cm)']\n"
     ]
    }
   ],
   "source": [
    "print(\"Feature names:\\n{}\".format(iris_dataset['feature_names']))"
   ]
  },
  {
   "cell_type": "markdown",
   "id": "addressed-rocket",
   "metadata": {},
   "source": [
    "我们要用新数据来评估模型的性能。新数据是指模型之前没有见过的数据。通常的做法是将收集好的带标签数据分为两部分，一部分数据用于构建机器学习模型，叫做训练数据或训练集，其余的数据用来评估模型性能，叫做测试数据，测试集或留出集。"
   ]
  },
  {
   "cell_type": "markdown",
   "id": "northern-cleanup",
   "metadata": {},
   "source": [
    "scikit-learn中的train-test-split函数可以打乱数据集并进行拆分。这个函数将75%的行数据及对应标签作为训练集，剩下25%的数据及其标签作为测试集。  \n",
    "random_state参数指定了随机数生成器的种子。"
   ]
  },
  {
   "cell_type": "code",
   "execution_count": 25,
   "id": "finite-pantyhose",
   "metadata": {},
   "outputs": [
    {
     "name": "stdout",
     "output_type": "stream",
     "text": [
      "X_train shape:(112, 4)\n"
     ]
    }
   ],
   "source": [
    "from sklearn.model_selection import train_test_split\n",
    "X_train,X_test,y_train,y_test = train_test_split(\n",
    "    iris_dataset['data'],iris_dataset['target'],random_state=0)\n",
    "\n",
    "print(\"X_train shape:{}\".format(X_train.shape))"
   ]
  },
  {
   "cell_type": "markdown",
   "id": "recent-medicare",
   "metadata": {},
   "source": [
    "### 观察数据\n",
    "数据可视化：绘制散点图"
   ]
  },
  {
   "attachments": {
    "image.png": {
     "image/png": "[encoded data removed]"
    }
   },
   "cell_type": "markdown",
   "id": "mature-hunger",
   "metadata": {},
   "source": [
    "### 构建K近邻算法\n",
    "k近邻算法是一种基本分类和回归方法。  \n",
    "K近邻算法，即是给定一个训练数据集，对新的输入实例，在训练数据集中找到与该实例最邻近的K个实例，这K个实例的多数属于某个类，就把该输入实例分类到这个类中。（这就类似于现实生活中少数服从多数的思想）根据这个说法，咱们来看下引自维基百科上的一幅图：  \n",
    "![image.png](attachment:image.png)\n",
    "如上图所示，有两类不同的样本数据，分别用蓝色的小正方形和红色的小三角形表示，而图正中间的那个绿色的圆所标示的数据则是待分类的数据。这也就是我们的目的，来了一个新的数据点，我要得到它的类别是什么？好的，下面我们根据k近邻的思想来给绿色圆点进行分类  \n",
    "- 如果K=3，绿色圆点的最邻近的3个点是2个红色小三角形和1个蓝色小正方形，少数从属于多数，基于统计的方法，判定绿色的这个待分类点属于红色的三角形一类。\n",
    "- 如果K=5，绿色圆点的最邻近的5个邻居是2个红色三角形和3个蓝色的正方形，还是少数从属于多数，基于统计的方法，判定绿色的这个待分类点属于蓝色的正方形一类。\n",
    "从上面例子我们可以看出，k近邻的算法思想非常的简单，也非常的容易理解，那么我们是不是就到此结束了，该算法的原理我们也已经懂了，也知道怎么给新来的点如何进行归类，只要找到离它最近的k个实例，哪个类别最多即可。  \n",
    "\n",
    "哈哈，没有这么简单啦，算法的核心思想确实是这样，但是要想一个算法在实际应用中work，需要注意的不少额~比如k怎么确定的，k为多少效果最好呢？所谓的最近邻又是如何来判断给定呢？"
   ]
  },
  {
   "cell_type": "markdown",
   "id": "informational-canvas",
   "metadata": {},
   "source": [
    "我们提出了k近邻算法，算法的核心思想是，即是给定一个训练数据集，对新的输入实例，在训练数据集中找到与该实例最邻近的K个实例，这K个实例的多数属于某个类，就把该输入实例分类到这个类中。更通俗说一遍算法的过程，来了一个新的输入实例，我们算出该实例与每一个训练点的距离（这里的复杂度为0(n)比较大，所以引出了下文的kd树等结构），然后找到前k个，这k个哪个类别数最多，我们就判断新的输入实例就是哪类！"
   ]
  },
  {
   "cell_type": "code",
   "execution_count": 29,
   "id": "broke-dining",
   "metadata": {},
   "outputs": [
    {
     "data": {
      "text/plain": [
       "KNeighborsClassifier(n_neighbors=1)"
      ]
     },
     "execution_count": 29,
     "metadata": {},
     "output_type": "execute_result"
    }
   ],
   "source": [
    "from sklearn.neighbors import KNeighborsClassifier\n",
    "knn = KNeighborsClassifier(n_neighbors=1)\n",
    "knn.fit(X_train,y_train)"
   ]
  },
  {
   "cell_type": "markdown",
   "id": "extended-bridal",
   "metadata": {},
   "source": [
    "### 做出预测\n",
    "对花萼长5cm宽2.9cm，花瓣长1cm宽0.2cm进行预测"
   ]
  },
  {
   "cell_type": "code",
   "execution_count": 33,
   "id": "assisted-slope",
   "metadata": {},
   "outputs": [
    {
     "name": "stdout",
     "output_type": "stream",
     "text": [
      "Shape of X_new:(1, 4)\n",
      "Prediction:[0]\n",
      "Predicted target name:['setosa']\n"
     ]
    }
   ],
   "source": [
    "X_new = np.array([[5,2.9,1,0.2]])\n",
    "print(\"Shape of X_new:{}\".format(X_new.shape))\n",
    "\n",
    "prediction = knn.predict(X_new)\n",
    "print(\"Prediction:{}\".format(prediction))\n",
    "print(\"Predicted target name:{}\".format(\n",
    "    iris_dataset['target_names'][prediction]))"
   ]
  },
  {
   "cell_type": "markdown",
   "id": "compatible-intro",
   "metadata": {},
   "source": [
    "### 评估模型\n",
    "用测试集评估，将测试数据中的每朵鸢尾花进行预测，并将预测结果与标签（已知的品种）进行对比，我们可以通过计算精度来衡量模型的优劣，精度就是品种预测正确的花所占的比例。  \n",
    "可以使用np.mean或者knn.score来预测。"
   ]
  },
  {
   "cell_type": "code",
   "execution_count": 36,
   "id": "ceramic-perth",
   "metadata": {},
   "outputs": [
    {
     "name": "stdout",
     "output_type": "stream",
     "text": [
      "Test set predictions:[2 1 0 2 0 2 0 1 1 1 2 1 1 1 1 0 1 1 0 0 2 1 0 0 2 0 0 1 1 0 2 1 0 2 2 1 0\n",
      " 2]\n",
      "Test set score: 0.97\n",
      "Test set score: 0.97\n"
     ]
    }
   ],
   "source": [
    "y_pred = knn.predict(X_test)\n",
    "print(\"Test set predictions:{}\".format(y_pred))\n",
    "\n",
    "print(\"Test set score: {:.2f}\".format(np.mean(y_pred==y_test)))\n",
    "print(\"Test set score: {:.2f}\".format(knn.score(X_test,y_test)))"
   ]
  },
  {
   "cell_type": "markdown",
   "id": "tired-tsunami",
   "metadata": {},
   "source": [
    "对这个模型来说，测试的精度约为0.97"
   ]
  },
  {
   "cell_type": "code",
   "execution_count": null,
   "id": "special-maine",
   "metadata": {},
   "outputs": [],
   "source": []
  }
 ],
 "metadata": {
  "kernelspec": {
   "display_name": "Python 3",
   "language": "python",
   "name": "python3"
  },
  "language_info": {
   "codemirror_mode": {
    "name": "ipython",
    "version": 3
   },
   "file_extension": ".py",
   "mimetype": "text/x-python",
   "name": "python",
   "nbconvert_exporter": "python",
   "pygments_lexer": "ipython3",
   "version": "3.8.1"
  }
 },
 "nbformat": 4,
 "nbformat_minor": 5
}
